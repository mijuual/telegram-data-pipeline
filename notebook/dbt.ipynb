{
 "cells": [
  {
   "cell_type": "code",
   "execution_count": 2,
   "id": "2b952d56",
   "metadata": {},
   "outputs": [
    {
     "name": "stdout",
     "output_type": "stream",
     "text": [
      "\u001b[0m14:37:16  Running with dbt=1.10.4\n",
      "\u001b[0m14:37:16  Registered adapter: postgres=1.9.0\n",
      "\u001b[0m14:37:17  Unable to do partial parsing because saved manifest not found. Starting full parse.\n",
      "\u001b[0m14:37:21  Found 3 models, 4 data tests, 433 macros\n",
      "\u001b[0m14:37:21  \n",
      "\u001b[0m14:37:21  Concurrency: 1 threads (target='dev')\n",
      "\u001b[0m14:37:21  \n",
      "\u001b[0m14:37:21  1 of 1 START sql view model analytics.stg_telegram_messages .................... [RUN]\n",
      "\u001b[0m14:37:22  1 of 1 OK created sql view model analytics.stg_telegram_messages ............... [\u001b[32mCREATE VIEW\u001b[0m in 0.26s]\n",
      "\u001b[0m14:37:22  \n",
      "\u001b[0m14:37:22  Finished running 1 view model in 0 hours 0 minutes and 0.98 seconds (0.98s).\n",
      "\u001b[0m14:37:22  \n",
      "\u001b[0m14:37:22  \u001b[32mCompleted successfully\u001b[0m\n",
      "\u001b[0m14:37:22  \n",
      "\u001b[0m14:37:22  Done. PASS=1 WARN=0 ERROR=0 SKIP=0 NO-OP=0 TOTAL=1\n"
     ]
    }
   ],
   "source": [
    "import os\n",
    "\n",
    "# Change to the correct path where your dbt_project.yml is located\n",
    "os.chdir(r\"C:\\Users\\mijuu\\Documents\\telegram-data-pipeline\\ethiomed_dbt\")\n",
    "\n",
    "# Now run dbt\n",
    "!dbt run --select stg_telegram_messages\n"
   ]
  }
 ],
 "metadata": {
  "kernelspec": {
   "display_name": ".venv",
   "language": "python",
   "name": "python3"
  },
  "language_info": {
   "codemirror_mode": {
    "name": "ipython",
    "version": 3
   },
   "file_extension": ".py",
   "mimetype": "text/x-python",
   "name": "python",
   "nbconvert_exporter": "python",
   "pygments_lexer": "ipython3",
   "version": "3.12.3"
  }
 },
 "nbformat": 4,
 "nbformat_minor": 5
}
